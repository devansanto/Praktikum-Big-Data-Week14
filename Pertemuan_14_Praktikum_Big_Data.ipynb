{
  "nbformat": 4,
  "nbformat_minor": 0,
  "metadata": {
    "colab": {
      "provenance": []
    },
    "kernelspec": {
      "name": "python3",
      "display_name": "Python 3"
    },
    "language_info": {
      "name": "python"
    }
  },
  "cells": [
    {
      "cell_type": "markdown",
      "source": [
        "# Linear Regression with Spark MLlib"
      ],
      "metadata": {
        "id": "eflbGksYEKrD"
      }
    },
    {
      "cell_type": "code",
      "execution_count": null,
      "metadata": {
        "colab": {
          "base_uri": "https://localhost:8080/"
        },
        "id": "Wtc-MALTEDyd",
        "outputId": "06a92eec-53bf-49f7-b35a-d7c130d7c4ef"
      },
      "outputs": [
        {
          "output_type": "stream",
          "name": "stdout",
          "text": [
            "Coefficients: [0.9999999999999992]\n",
            "Intercept: 15.000000000000009\n"
          ]
        }
      ],
      "source": [
        "# Example: Linear Regression with Spark MLlib\n",
        "from pyspark.sql import SparkSession\n",
        "from pyspark.ml.regression import LinearRegression\n",
        "from pyspark.ml.feature import VectorAssembler\n",
        "\n",
        "# Initialize Spark Session\n",
        "spark = SparkSession.builder.appName('MLlib Example').getOrCreate()\n",
        "\n",
        "# Load sample data\n",
        "data = [(1, 5.0, 20.0), (2, 10.0, 25.0), (3, 15.0, 30.0), (4, 20.0, 35.0)]\n",
        "columns = ['ID', 'Feature', 'Target']\n",
        "df = spark.createDataFrame(data, columns)\n",
        "\n",
        "# Prepare data for modeling\n",
        "assembler = VectorAssembler(inputCols=['Feature'], outputCol='Features')\n",
        "df_transformed = assembler.transform(df)\n",
        "\n",
        "# Train a linear regression model\n",
        "lr = LinearRegression(featuresCol='Features', labelCol='Target')\n",
        "model = lr.fit(df_transformed)\n",
        "\n",
        "# Print model coefficients\n",
        "print(f'Coefficients: {model.coefficients}')\n",
        "print(f'Intercept: {model.intercept}')"
      ]
    },
    {
      "cell_type": "markdown",
      "source": [
        "# Practice: Logistic Regression"
      ],
      "metadata": {
        "id": "iwoM8ku3LuRF"
      }
    },
    {
      "cell_type": "code",
      "source": [
        "from pyspark.sql import SparkSession\n",
        "from pyspark.ml.classification import LogisticRegression\n",
        "from pyspark.ml.feature import VectorAssembler\n",
        "from pyspark.ml.linalg import Vectors  # Import Vectors\n",
        "\n",
        "# Initialize Spark Session\n",
        "spark = SparkSession.builder.appName('MLlib Example').getOrCreate()\n",
        "\n",
        "# Example dataset\n",
        "data = [(1, [2.0, 3.0], 0), (2, [1.0, 5.0], 1), (3, [2.5, 4.5], 1), (4, [3.0, 6.0], 0)]\n",
        "columns = ['ID', 'Features', 'Label']\n",
        "df = spark.createDataFrame(data, columns)\n",
        "\n",
        "# Convert 'Features' column to Vectors before using VectorAssembler\n",
        "from pyspark.sql.functions import udf\n",
        "from pyspark.ml.linalg import VectorUDT\n",
        "\n",
        "# Define a UDF to convert lists to Vectors\n",
        "list_to_vector_udf = udf(lambda l: Vectors.dense(l), VectorUDT())\n",
        "\n",
        "# Apply the UDF to the 'Features' column\n",
        "df = df.withColumn(\"Features\", list_to_vector_udf(\"Features\"))\n",
        "\n",
        "# Create a VectorAssembler to convert the 'Features' column to VectorUDT\n",
        "assembler = VectorAssembler(inputCols=['Features'], outputCol='Feature_vec') # outputCol can be anything\n",
        "df = assembler.transform(df)\n",
        "\n",
        "# Train logistic regression model using the new 'Feature_vec' column\n",
        "lr = LogisticRegression(featuresCol='Feature_vec', labelCol='Label') # use outputCol name from the cell above.\n",
        "model = lr.fit(df)\n",
        "\n",
        "# Display coefficients and summary\n",
        "print(f'Coefficients: {model.coefficients}')\n",
        "print(f'Intercept: {model.intercept}')"
      ],
      "metadata": {
        "colab": {
          "base_uri": "https://localhost:8080/"
        },
        "id": "4GJiunRKFoUv",
        "outputId": "8990439b-7e2b-4a15-8cc4-592e326e8a15"
      },
      "execution_count": null,
      "outputs": [
        {
          "output_type": "stream",
          "name": "stdout",
          "text": [
            "Coefficients: [-12.262057929180484,4.087352266486688]\n",
            "Intercept: 11.56891272665312\n"
          ]
        }
      ]
    },
    {
      "cell_type": "markdown",
      "source": [
        "#Practice: KMeans Clustering"
      ],
      "metadata": {
        "id": "oAnz7fKgMTU3"
      }
    },
    {
      "cell_type": "code",
      "source": [
        "# Practice: KMeans Clustering\n",
        "from pyspark.ml.clustering import KMeans\n",
        "from pyspark.ml.linalg import Vectors\n",
        "from pyspark.sql.functions import udf\n",
        "from pyspark.ml.linalg import VectorUDT\n",
        "\n",
        "\n",
        "# Example dataset\n",
        "data = [(1, [1.0, 1.0]), (2, [5.0, 5.0]), (3, [10.0, 10.0]), (4, [15.0, 15.0])]\n",
        "columns = ['ID', 'Features']\n",
        "df = spark.createDataFrame(data, columns)\n",
        "\n",
        "# Define a UDF to convert lists to Vectors\n",
        "list_to_vector_udf = udf(lambda l: Vectors.dense(l), VectorUDT())\n",
        "\n",
        "# Apply the UDF to the 'Features' column to convert it into a VectorUDT\n",
        "df = df.withColumn(\"Features\", list_to_vector_udf(\"Features\"))\n",
        "\n",
        "# Train KMeans clustering model\n",
        "kmeans = KMeans(featuresCol='Features', k=2)\n",
        "model = kmeans.fit(df)\n",
        "\n",
        "# Show cluster centers\n",
        "centers = model.clusterCenters()\n",
        "print(f'Cluster Centers: {centers}')"
      ],
      "metadata": {
        "colab": {
          "base_uri": "https://localhost:8080/"
        },
        "id": "yaNWJ_P1L1yL",
        "outputId": "c126e19f-e69d-499b-b52b-4d1930d00289"
      },
      "execution_count": null,
      "outputs": [
        {
          "output_type": "stream",
          "name": "stdout",
          "text": [
            "Cluster Centers: [array([12.5, 12.5]), array([3., 3.])]\n"
          ]
        }
      ]
    },
    {
      "cell_type": "markdown",
      "source": [
        "# Homework"
      ],
      "metadata": {
        "id": "RV7eLQevOQTX"
      }
    },
    {
      "cell_type": "markdown",
      "source": [
        "## Load a real-world dataset into Spark and prepare it for machine learning tasks."
      ],
      "metadata": {
        "id": "GE6xhiSNOTFu"
      }
    },
    {
      "cell_type": "code",
      "source": [
        "!pip install requests pandas"
      ],
      "metadata": {
        "colab": {
          "base_uri": "https://localhost:8080/"
        },
        "id": "cz-adWP1OcVR",
        "outputId": "3b5785c9-0e6d-4dc4-adee-212400d2f4a0"
      },
      "execution_count": null,
      "outputs": [
        {
          "output_type": "stream",
          "name": "stdout",
          "text": [
            "Requirement already satisfied: requests in /usr/local/lib/python3.10/dist-packages (2.32.3)\n",
            "Requirement already satisfied: pandas in /usr/local/lib/python3.10/dist-packages (2.2.2)\n",
            "Requirement already satisfied: charset-normalizer<4,>=2 in /usr/local/lib/python3.10/dist-packages (from requests) (3.4.0)\n",
            "Requirement already satisfied: idna<4,>=2.5 in /usr/local/lib/python3.10/dist-packages (from requests) (3.10)\n",
            "Requirement already satisfied: urllib3<3,>=1.21.1 in /usr/local/lib/python3.10/dist-packages (from requests) (2.2.3)\n",
            "Requirement already satisfied: certifi>=2017.4.17 in /usr/local/lib/python3.10/dist-packages (from requests) (2024.8.30)\n",
            "Requirement already satisfied: numpy>=1.22.4 in /usr/local/lib/python3.10/dist-packages (from pandas) (1.26.4)\n",
            "Requirement already satisfied: python-dateutil>=2.8.2 in /usr/local/lib/python3.10/dist-packages (from pandas) (2.8.2)\n",
            "Requirement already satisfied: pytz>=2020.1 in /usr/local/lib/python3.10/dist-packages (from pandas) (2024.2)\n",
            "Requirement already satisfied: tzdata>=2022.7 in /usr/local/lib/python3.10/dist-packages (from pandas) (2024.2)\n",
            "Requirement already satisfied: six>=1.5 in /usr/local/lib/python3.10/dist-packages (from python-dateutil>=2.8.2->pandas) (1.16.0)\n"
          ]
        }
      ]
    },
    {
      "cell_type": "code",
      "source": [
        "from io import StringIO\n",
        "import pandas as pd\n",
        "import requests\n",
        "from pyspark.ml.clustering import KMeans\n",
        "from pyspark.ml.feature import VectorAssembler\n",
        "\n",
        "# URL of the iris dataset\n",
        "url = \"https://archive.ics.uci.edu/ml/machine-learning-databases/iris/iris.data\"\n",
        "# Fetch the data\n",
        "response = requests.get(url)\n",
        "# Create a StringIO object to mimic a file\n",
        "data_io = StringIO(response.text)\n",
        "# Define column names\n",
        "col_names = [\"sepal_length\", \"sepal_width\", \"petal_length\", \"petal_width\", \"species\"]\n",
        "# Load data into pandas DataFrame\n",
        "iris_data = pd.read_csv(data_io, names=col_names)\n",
        "# Convert pandas DataFrame to Spark DataFrame\n",
        "iris_df = spark.createDataFrame(iris_data)\n",
        "\n",
        "# Create a VectorAssembler to combine features into a single vector column\n",
        "assembler = VectorAssembler(\n",
        "    inputCols=[\"sepal_length\", \"sepal_width\", \"petal_length\", \"petal_width\"],\n",
        "    outputCol=\"features\"\n",
        ")\n",
        "\n",
        "# Transform the DataFrame to include the 'features' column\n",
        "iris_df = assembler.transform(iris_df)\n",
        "\n",
        "# Train KMeans clustering model\n",
        "kmeans = KMeans(featuresCol=\"features\", k=3) # Assuming 3 clusters for Iris dataset\n",
        "model = kmeans.fit(iris_df)\n",
        "\n",
        "# Show cluster centers\n",
        "centers = model.clusterCenters()\n",
        "print(f'Cluster Centers: {centers}')\n",
        "\n",
        "# Add cluster predictions to the DataFrame\n",
        "predictions = model.transform(iris_df)\n",
        "\n",
        "# Show the predictions\n",
        "predictions.select(\"species\", \"prediction\").show()"
      ],
      "metadata": {
        "colab": {
          "base_uri": "https://localhost:8080/"
        },
        "id": "82EXG5AvOf0a",
        "outputId": "8b68c889-0df2-4b65-b934-56d1613538fe"
      },
      "execution_count": null,
      "outputs": [
        {
          "output_type": "stream",
          "name": "stdout",
          "text": [
            "Cluster Centers: [array([6.85384615, 3.07692308, 5.71538462, 2.05384615]), array([5.006, 3.418, 1.464, 0.244]), array([5.88360656, 2.74098361, 4.38852459, 1.43442623])]\n",
            "+-----------+----------+\n",
            "|    species|prediction|\n",
            "+-----------+----------+\n",
            "|Iris-setosa|         1|\n",
            "|Iris-setosa|         1|\n",
            "|Iris-setosa|         1|\n",
            "|Iris-setosa|         1|\n",
            "|Iris-setosa|         1|\n",
            "|Iris-setosa|         1|\n",
            "|Iris-setosa|         1|\n",
            "|Iris-setosa|         1|\n",
            "|Iris-setosa|         1|\n",
            "|Iris-setosa|         1|\n",
            "|Iris-setosa|         1|\n",
            "|Iris-setosa|         1|\n",
            "|Iris-setosa|         1|\n",
            "|Iris-setosa|         1|\n",
            "|Iris-setosa|         1|\n",
            "|Iris-setosa|         1|\n",
            "|Iris-setosa|         1|\n",
            "|Iris-setosa|         1|\n",
            "|Iris-setosa|         1|\n",
            "|Iris-setosa|         1|\n",
            "+-----------+----------+\n",
            "only showing top 20 rows\n",
            "\n"
          ]
        }
      ]
    },
    {
      "cell_type": "markdown",
      "source": [
        "## Build a classification model using Spark MLlib and evaluate its performance."
      ],
      "metadata": {
        "id": "KQNlKAOeP8-F"
      }
    },
    {
      "cell_type": "code",
      "source": [
        "from io import StringIO\n",
        "import pandas as pd\n",
        "import requests\n",
        "from pyspark.ml.classification import LogisticRegression\n",
        "from pyspark.ml.feature import VectorAssembler, StringIndexer\n",
        "from pyspark.ml import Pipeline\n",
        "from pyspark.ml.evaluation import MulticlassClassificationEvaluator\n",
        "import matplotlib.pyplot as plt\n",
        "import seaborn as sns\n",
        "\n",
        "# URL of the iris dataset\n",
        "url = \"https://archive.ics.uci.edu/ml/machine-learning-databases/iris/iris.data\"\n",
        "# Fetch the data\n",
        "response = requests.get(url)\n",
        "# Create a StringIO object to mimic a file\n",
        "data_io = StringIO(response.text)\n",
        "# Define column names\n",
        "col_names = [\"sepal_length\", \"sepal_width\", \"petal_length\", \"petal_width\", \"species\"]\n",
        "# Load data into pandas DataFrame\n",
        "iris_data = pd.read_csv(data_io, names=col_names)\n",
        "# Convert pandas DataFrame to Spark DataFrame\n",
        "iris_df = spark.createDataFrame(iris_data)\n",
        "\n",
        "\n",
        "# 1. Prepare the Data\n",
        "\n",
        "# Create a StringIndexer to convert the 'species' column to numerical labels\n",
        "indexer = StringIndexer(inputCol=\"species\", outputCol=\"label\")\n",
        "\n",
        "# Create a VectorAssembler to combine features into a single vector column\n",
        "assembler = VectorAssembler(\n",
        "    inputCols=[\"sepal_length\", \"sepal_width\", \"petal_length\", \"petal_width\"],\n",
        "    outputCol=\"features\"\n",
        ")\n",
        "\n",
        "# 2. Create a Pipeline\n",
        "\n",
        "# Create a Pipeline to chain the indexer, assembler, and Logistic Regression model\n",
        "pipeline = Pipeline(stages=[indexer, assembler, LogisticRegression(maxIter=10, regParam=0.3, elasticNetParam=0.8)])\n",
        "\n",
        "# 3. Split the Data\n",
        "\n",
        "# Split the data into training and testing sets\n",
        "(trainingData, testData) = iris_df.randomSplit([0.7, 0.3], seed=100)\n",
        "\n",
        "# 4. Train the Model\n",
        "\n",
        "# Fit the pipeline to the training data\n",
        "model = pipeline.fit(trainingData)\n",
        "\n",
        "# 5. Make Predictions\n",
        "\n",
        "# Make predictions on the test data\n",
        "predictions = model.transform(testData)\n",
        "\n",
        "# 6. Evaluate the Model\n",
        "\n",
        "# Create an evaluator and calculate the accuracy\n",
        "evaluator = MulticlassClassificationEvaluator(labelCol=\"label\", predictionCol=\"prediction\", metricName=\"accuracy\")\n",
        "accuracy = evaluator.evaluate(predictions)\n",
        "print(f\"Accuracy: {accuracy}\")\n",
        "\n",
        "\n",
        "# 7. Visualize Results (Optional)\n",
        "\n",
        "# Convert predictions to Pandas DataFrame for visualization\n",
        "pandas_predictions = predictions.select(\"label\", \"prediction\").toPandas()\n",
        "\n",
        "# Create a confusion matrix\n",
        "plt.figure(figsize=(8, 6))\n",
        "sns.heatmap(pd.crosstab(pandas_predictions['label'], pandas_predictions['prediction']), annot=True, fmt=\"d\", cmap=\"Blues\")\n",
        "plt.title(\"Confusion Matrix\")\n",
        "plt.xlabel(\"Predicted Label\")\n",
        "plt.ylabel(\"True Label\")\n",
        "plt.show()"
      ],
      "metadata": {
        "colab": {
          "base_uri": "https://localhost:8080/",
          "height": 581
        },
        "id": "gubG2PbRPcFX",
        "outputId": "707e8c88-9593-43fb-f59d-c656afb41f26"
      },
      "execution_count": null,
      "outputs": [
        {
          "output_type": "stream",
          "name": "stdout",
          "text": [
            "Accuracy: 0.875\n"
          ]
        },
        {
          "output_type": "display_data",
          "data": {
            "text/plain": [
              "<Figure size 800x600 with 2 Axes>"
            ],
            "image/png": "[encoded data removed]"
          },
          "metadata": {}
        }
      ]
    },
    {
      "cell_type": "code",
      "source": [
        "!apt-get update\n",
        "!apt-get install openjdk-8-jdk-headless -qq > /dev/null\n",
        "!wget -q https://downloads.apache.org/spark/spark-3.4.1/spark-3.4.1-bin-hadoop3.tgz\n",
        "!tar xf spark-3.4.1-bin-hadoop3.tgz\n",
        "!pip install -q findspark"
      ],
      "metadata": {
        "colab": {
          "base_uri": "https://localhost:8080/"
        },
        "id": "evoNendlQLF6",
        "outputId": "f801d8d5-9ab3-48f9-e9aa-25b7498f3942"
      },
      "execution_count": null,
      "outputs": [
        {
          "output_type": "stream",
          "name": "stdout",
          "text": [
            "\r0% [Working]\r            \rHit:1 http://archive.ubuntu.com/ubuntu jammy InRelease\n",
            "\r0% [Waiting for headers] [Waiting for headers] [Connected to r2u.stat.illinois.edu (192.17.190.167)]\r                                                                                                    \rGet:2 http://security.ubuntu.com/ubuntu jammy-security InRelease [129 kB]\n",
            "\r                                                                                                    \rGet:3 https://cloud.r-project.org/bin/linux/ubuntu jammy-cran40/ InRelease [3,626 B]\n",
            "\r                                                                                                    \rGet:4 https://developer.download.nvidia.com/compute/cuda/repos/ubuntu2204/x86_64  InRelease [1,581 B]\n",
            "Get:5 http://archive.ubuntu.com/ubuntu jammy-updates InRelease [128 kB]\n",
            "Get:6 https://r2u.stat.illinois.edu/ubuntu jammy InRelease [6,555 B]\n",
            "Get:7 http://archive.ubuntu.com/ubuntu jammy-backports InRelease [127 kB]\n",
            "Hit:8 https://ppa.launchpadcontent.net/deadsnakes/ppa/ubuntu jammy InRelease\n",
            "Get:9 https://developer.download.nvidia.com/compute/cuda/repos/ubuntu2204/x86_64  Packages [1,188 kB]\n",
            "Hit:10 https://ppa.launchpadcontent.net/graphics-drivers/ppa/ubuntu jammy InRelease\n",
            "Hit:11 https://ppa.launchpadcontent.net/ubuntugis/ppa/ubuntu jammy InRelease\n",
            "Get:12 https://r2u.stat.illinois.edu/ubuntu jammy/main all Packages [8,527 kB]\n",
            "Get:13 http://security.ubuntu.com/ubuntu jammy-security/universe amd64 Packages [1,224 kB]\n",
            "Get:14 http://archive.ubuntu.com/ubuntu jammy-updates/universe amd64 Packages [1,513 kB]\n",
            "Get:15 http://security.ubuntu.com/ubuntu jammy-security/main amd64 Packages [2,454 kB]\n",
            "Get:16 http://archive.ubuntu.com/ubuntu jammy-updates/main amd64 Packages [2,738 kB]\n",
            "Get:17 https://r2u.stat.illinois.edu/ubuntu jammy/main amd64 Packages [2,626 kB]\n",
            "Fetched 20.7 MB in 3s (6,783 kB/s)\n",
            "Reading package lists... Done\n",
            "W: Skipping acquire of configured file 'main/source/Sources' as repository 'https://r2u.stat.illinois.edu/ubuntu jammy InRelease' does not seem to provide it (sources.list entry misspelt?)\n",
            "tar: spark-3.4.1-bin-hadoop3.tgz: Cannot open: No such file or directory\n",
            "tar: Error is not recoverable: exiting now\n"
          ]
        }
      ]
    },
    {
      "cell_type": "code",
      "source": [
        "import os\n",
        "os.environ[\"JAVA_HOME\"] = \"/usr/lib/jvm/java-8-openjdk-amd64\"\n",
        "os.environ[\"SPARK_HOME\"] = \"/content/spark-3.4.1-bin-hadoop3\"\n",
        "\n",
        "import findspark\n",
        "findspark.init()\n",
        "\n",
        "from pyspark.sql import SparkSession\n",
        "\n",
        "spark = SparkSession.builder.appName(\"MLlibClassification\").getOrCreate()"
      ],
      "metadata": {
        "id": "fk17YoWQS83Y"
      },
      "execution_count": null,
      "outputs": []
    },
    {
      "cell_type": "code",
      "source": [
        " # Install necessary libraries if not already installed\n",
        "!pip install pyspark boto3 s3fs pandas requests matplotlib seaborn\n",
        "\n",
        "# Import necessary libraries\n",
        "from io import StringIO\n",
        "import pandas as pd\n",
        "import requests\n",
        "from pyspark.ml.classification import LogisticRegression\n",
        "from pyspark.ml.feature import VectorAssembler, StringIndexer\n",
        "from pyspark.ml import Pipeline\n",
        "from pyspark.ml.evaluation import MulticlassClassificationEvaluator\n",
        "import matplotlib.pyplot as plt\n",
        "import seaborn as sns\n",
        "from pyspark.sql import SparkSession\n",
        "from pyspark.sql.functions import col\n",
        "from pyspark.ml.feature import Imputer, OneHotEncoder\n",
        "\n",
        "# Initialize Spark session\n",
        "spark = SparkSession.builder.appName(\"MLlibClassification\").getOrCreate()\n",
        "\n",
        "url = 'https://raw.githubusercontent.com/datasciencedojo/datasets/master/titanic.csv'\n",
        "# Load the dataset using pandas first\n",
        "titanic_pd_df = pd.read_csv(url)\n",
        "# Create a Spark DataFrame from the pandas DataFrame\n",
        "titanic_df = spark.createDataFrame(titanic_pd_df)\n",
        "\n",
        "\n",
        "# Select relevant features and cast to appropriate data types\n",
        "titanic_df = titanic_df.select(\n",
        "    col(\"Survived\").cast(\"int\"),\n",
        "    col(\"Pclass\").cast(\"int\"),\n",
        "    col(\"Sex\"),\n",
        "    col(\"Age\").cast(\"double\"),\n",
        "    col(\"SibSp\").cast(\"int\"),\n",
        "    col(\"Parch\").cast(\"int\"),\n",
        "    col(\"Fare\").cast(\"double\")\n",
        ")\n",
        "\n",
        "# Handle missing values (e.g., impute with mean for Age)\n",
        "imputer = Imputer(inputCols=[\"Age\"], outputCols=[\"AgeImputed\"])\n",
        "titanic_df = imputer.fit(titanic_df).transform(titanic_df).drop(\"Age\").withColumnRenamed(\"AgeImputed\", \"Age\")\n",
        "\n",
        "# Convert categorical features to numerical using StringIndexer and OneHotEncoder\n",
        "sexIndexer = StringIndexer(inputCol=\"Sex\", outputCol=\"SexIndexed\")\n",
        "titanic_df = sexIndexer.fit(titanic_df).transform(titanic_df)\n",
        "\n",
        "sexEncoder = OneHotEncoder(inputCols=[\"SexIndexed\"], outputCols=[\"SexEncoded\"])\n",
        "titanic_df = sexEncoder.fit(titanic_df).transform(titanic_df)\n",
        "\n",
        "# Assemble features into a vector using VectorAssembler\n",
        "assembler = VectorAssembler(inputCols=[\"Pclass\", \"Age\", \"SibSp\", \"Parch\", \"Fare\", \"SexEncoded\"], outputCol=\"features\")\n",
        "titanic_df = assembler.transform(titanic_df)"
      ],
      "metadata": {
        "colab": {
          "base_uri": "https://localhost:8080/"
        },
        "id": "YuolCOccVl66",
        "outputId": "a21408f5-dbed-41a3-f901-3ec1ef37df80"
      },
      "execution_count": null,
      "outputs": [
        {
          "output_type": "stream",
          "name": "stdout",
          "text": [
            "Requirement already satisfied: pyspark in /usr/local/lib/python3.10/dist-packages (3.5.3)\n",
            "Requirement already satisfied: boto3 in /usr/local/lib/python3.10/dist-packages (1.35.74)\n",
            "Requirement already satisfied: s3fs in /usr/local/lib/python3.10/dist-packages (0.4.2)\n",
            "Requirement already satisfied: pandas in /usr/local/lib/python3.10/dist-packages (2.2.2)\n",
            "Requirement already satisfied: requests in /usr/local/lib/python3.10/dist-packages (2.32.3)\n",
            "Requirement already satisfied: matplotlib in /usr/local/lib/python3.10/dist-packages (3.8.0)\n",
            "Requirement already satisfied: seaborn in /usr/local/lib/python3.10/dist-packages (0.13.2)\n",
            "Requirement already satisfied: py4j==0.10.9.7 in /usr/local/lib/python3.10/dist-packages (from pyspark) (0.10.9.7)\n",
            "Requirement already satisfied: botocore<1.36.0,>=1.35.74 in /usr/local/lib/python3.10/dist-packages (from boto3) (1.35.74)\n",
            "Requirement already satisfied: jmespath<2.0.0,>=0.7.1 in /usr/local/lib/python3.10/dist-packages (from boto3) (1.0.1)\n",
            "Requirement already satisfied: s3transfer<0.11.0,>=0.10.0 in /usr/local/lib/python3.10/dist-packages (from boto3) (0.10.4)\n",
            "Requirement already satisfied: fsspec>=0.6.0 in /usr/local/lib/python3.10/dist-packages (from s3fs) (2024.10.0)\n",
            "Requirement already satisfied: numpy>=1.22.4 in /usr/local/lib/python3.10/dist-packages (from pandas) (1.26.4)\n",
            "Requirement already satisfied: python-dateutil>=2.8.2 in /usr/local/lib/python3.10/dist-packages (from pandas) (2.8.2)\n",
            "Requirement already satisfied: pytz>=2020.1 in /usr/local/lib/python3.10/dist-packages (from pandas) (2024.2)\n",
            "Requirement already satisfied: tzdata>=2022.7 in /usr/local/lib/python3.10/dist-packages (from pandas) (2024.2)\n",
            "Requirement already satisfied: charset-normalizer<4,>=2 in /usr/local/lib/python3.10/dist-packages (from requests) (3.4.0)\n",
            "Requirement already satisfied: idna<4,>=2.5 in /usr/local/lib/python3.10/dist-packages (from requests) (3.10)\n",
            "Requirement already satisfied: urllib3<3,>=1.21.1 in /usr/local/lib/python3.10/dist-packages (from requests) (2.2.3)\n",
            "Requirement already satisfied: certifi>=2017.4.17 in /usr/local/lib/python3.10/dist-packages (from requests) (2024.8.30)\n",
            "Requirement already satisfied: contourpy>=1.0.1 in /usr/local/lib/python3.10/dist-packages (from matplotlib) (1.3.1)\n",
            "Requirement already satisfied: cycler>=0.10 in /usr/local/lib/python3.10/dist-packages (from matplotlib) (0.12.1)\n",
            "Requirement already satisfied: fonttools>=4.22.0 in /usr/local/lib/python3.10/dist-packages (from matplotlib) (4.55.0)\n",
            "Requirement already satisfied: kiwisolver>=1.0.1 in /usr/local/lib/python3.10/dist-packages (from matplotlib) (1.4.7)\n",
            "Requirement already satisfied: packaging>=20.0 in /usr/local/lib/python3.10/dist-packages (from matplotlib) (24.2)\n",
            "Requirement already satisfied: pillow>=6.2.0 in /usr/local/lib/python3.10/dist-packages (from matplotlib) (11.0.0)\n",
            "Requirement already satisfied: pyparsing>=2.3.1 in /usr/local/lib/python3.10/dist-packages (from matplotlib) (3.2.0)\n",
            "Requirement already satisfied: six>=1.5 in /usr/local/lib/python3.10/dist-packages (from python-dateutil>=2.8.2->pandas) (1.16.0)\n"
          ]
        }
      ]
    },
    {
      "cell_type": "markdown",
      "source": [
        "# Preapre it for Machine Learning Task"
      ],
      "metadata": {
        "id": "bktvsH1uYjDe"
      }
    },
    {
      "cell_type": "code",
      "source": [
        "# Import necessary libraries\n",
        "from io import StringIO\n",
        "import pandas as pd\n",
        "import requests\n",
        "from pyspark.ml.classification import LogisticRegression\n",
        "from pyspark.ml.feature import VectorAssembler, StringIndexer\n",
        "from pyspark.ml import Pipeline\n",
        "from pyspark.ml.evaluation import MulticlassClassificationEvaluator\n",
        "import matplotlib.pyplot as plt\n",
        "import seaborn as sns\n",
        "from pyspark.sql import SparkSession\n",
        "from pyspark.sql.functions import col\n",
        "from pyspark.ml.feature import Imputer, OneHotEncoder\n",
        "\n",
        "# Initialize Spark session\n",
        "spark = SparkSession.builder.appName(\"MLlibClassification\").getOrCreate()\n",
        "\n",
        "url = 'https://raw.githubusercontent.com/datasciencedojo/datasets/master/titanic.csv'\n",
        "# Load the dataset using pandas first\n",
        "titanic_pd_df = pd.read_csv(url)\n",
        "# Create a Spark DataFrame from the pandas DataFrame\n",
        "titanic_df = spark.createDataFrame(titanic_pd_df)\n",
        "\n",
        "\n",
        "# Select relevant features and cast to appropriate data types\n",
        "titanic_df = titanic_df.select(\n",
        "    col(\"Survived\").cast(\"int\"),\n",
        "    col(\"Pclass\").cast(\"int\"),\n",
        "    col(\"Sex\"),\n",
        "    col(\"Age\").cast(\"double\"),\n",
        "    col(\"SibSp\").cast(\"int\"),\n",
        "    col(\"Parch\").cast(\"int\"),\n",
        "    col(\"Fare\").cast(\"double\")\n",
        ")\n",
        "\n",
        "# Handle missing values (e.g., impute with mean for Age)\n",
        "imputer = Imputer(inputCols=[\"Age\"], outputCols=[\"AgeImputed\"])\n",
        "titanic_df = imputer.fit(titanic_df).transform(titanic_df).drop(\"Age\").withColumnRenamed(\"AgeImputed\", \"Age\")\n",
        "\n",
        "# Convert categorical features to numerical using StringIndexer and OneHotEncoder\n",
        "sexIndexer = StringIndexer(inputCol=\"Sex\", outputCol=\"SexIndexed\")\n",
        "titanic_df = sexIndexer.fit(titanic_df).transform(titanic_df)\n",
        "\n",
        "sexEncoder = OneHotEncoder(inputCols=[\"SexIndexed\"], outputCols=[\"SexEncoded\"])\n",
        "titanic_df = sexEncoder.fit(titanic_df).transform(titanic_df)\n",
        "\n",
        "# Assemble features into a vector using VectorAssembler\n",
        "assembler = VectorAssembler(inputCols=[\"Pclass\", \"Age\", \"SibSp\", \"Parch\", \"Fare\", \"SexEncoded\"], outputCol=\"features\")\n",
        "titanic_df = assembler.transform(titanic_df)\n",
        "\n",
        "# Menampilkan output\n",
        "titanic_df.show() # Menampilkan beberapa baris pertama DataFrame\n",
        "# atau\n",
        "titanic_df.printSchema() # Menampilkan skema DataFrame"
      ],
      "metadata": {
        "colab": {
          "base_uri": "https://localhost:8080/"
        },
        "id": "3BdBAOvlWOwj",
        "outputId": "821c86b9-a9d7-4219-e1be-06c7d58d3b6e"
      },
      "execution_count": null,
      "outputs": [
        {
          "output_type": "stream",
          "name": "stdout",
          "text": [
            "+--------+------+------+-----+-----+-------+-----------------+----------+-------------+--------------------+\n",
            "|Survived|Pclass|   Sex|SibSp|Parch|   Fare|              Age|SexIndexed|   SexEncoded|            features|\n",
            "+--------+------+------+-----+-----+-------+-----------------+----------+-------------+--------------------+\n",
            "|       0|     3|  male|    1|    0|   7.25|             22.0|       0.0|(1,[0],[1.0])|[3.0,22.0,1.0,0.0...|\n",
            "|       1|     1|female|    1|    0|71.2833|             38.0|       1.0|    (1,[],[])|[1.0,38.0,1.0,0.0...|\n",
            "|       1|     3|female|    0|    0|  7.925|             26.0|       1.0|    (1,[],[])|[3.0,26.0,0.0,0.0...|\n",
            "|       1|     1|female|    1|    0|   53.1|             35.0|       1.0|    (1,[],[])|[1.0,35.0,1.0,0.0...|\n",
            "|       0|     3|  male|    0|    0|   8.05|             35.0|       0.0|(1,[0],[1.0])|[3.0,35.0,0.0,0.0...|\n",
            "|       0|     3|  male|    0|    0| 8.4583|29.69911764705882|       0.0|(1,[0],[1.0])|[3.0,29.699117647...|\n",
            "|       0|     1|  male|    0|    0|51.8625|             54.0|       0.0|(1,[0],[1.0])|[1.0,54.0,0.0,0.0...|\n",
            "|       0|     3|  male|    3|    1| 21.075|              2.0|       0.0|(1,[0],[1.0])|[3.0,2.0,3.0,1.0,...|\n",
            "|       1|     3|female|    0|    2|11.1333|             27.0|       1.0|    (1,[],[])|[3.0,27.0,0.0,2.0...|\n",
            "|       1|     2|female|    1|    0|30.0708|             14.0|       1.0|    (1,[],[])|[2.0,14.0,1.0,0.0...|\n",
            "|       1|     3|female|    1|    1|   16.7|              4.0|       1.0|    (1,[],[])|[3.0,4.0,1.0,1.0,...|\n",
            "|       1|     1|female|    0|    0|  26.55|             58.0|       1.0|    (1,[],[])|[1.0,58.0,0.0,0.0...|\n",
            "|       0|     3|  male|    0|    0|   8.05|             20.0|       0.0|(1,[0],[1.0])|[3.0,20.0,0.0,0.0...|\n",
            "|       0|     3|  male|    1|    5| 31.275|             39.0|       0.0|(1,[0],[1.0])|[3.0,39.0,1.0,5.0...|\n",
            "|       0|     3|female|    0|    0| 7.8542|             14.0|       1.0|    (1,[],[])|[3.0,14.0,0.0,0.0...|\n",
            "|       1|     2|female|    0|    0|   16.0|             55.0|       1.0|    (1,[],[])|[2.0,55.0,0.0,0.0...|\n",
            "|       0|     3|  male|    4|    1| 29.125|              2.0|       0.0|(1,[0],[1.0])|[3.0,2.0,4.0,1.0,...|\n",
            "|       1|     2|  male|    0|    0|   13.0|29.69911764705882|       0.0|(1,[0],[1.0])|[2.0,29.699117647...|\n",
            "|       0|     3|female|    1|    0|   18.0|             31.0|       1.0|    (1,[],[])|[3.0,31.0,1.0,0.0...|\n",
            "|       1|     3|female|    0|    0|  7.225|29.69911764705882|       1.0|    (1,[],[])|[3.0,29.699117647...|\n",
            "+--------+------+------+-----+-----+-------+-----------------+----------+-------------+--------------------+\n",
            "only showing top 20 rows\n",
            "\n",
            "root\n",
            " |-- Survived: integer (nullable = true)\n",
            " |-- Pclass: integer (nullable = true)\n",
            " |-- Sex: string (nullable = true)\n",
            " |-- SibSp: integer (nullable = true)\n",
            " |-- Parch: integer (nullable = true)\n",
            " |-- Fare: double (nullable = true)\n",
            " |-- Age: double (nullable = true)\n",
            " |-- SexIndexed: double (nullable = false)\n",
            " |-- SexEncoded: vector (nullable = true)\n",
            " |-- features: vector (nullable = true)\n",
            "\n"
          ]
        }
      ]
    },
    {
      "cell_type": "markdown",
      "source": [
        "# Build a Classification Model and Evaluate its Performance"
      ],
      "metadata": {
        "id": "bU8aVVTJYtQt"
      }
    },
    {
      "cell_type": "code",
      "source": [
        "from pyspark.ml.classification import LogisticRegression\n",
        "from pyspark.ml import Pipeline\n",
        "from pyspark.ml.evaluation import BinaryClassificationEvaluator\n",
        "\n",
        "# Split the data\n",
        "(trainingData, testData) = titanic_df.randomSplit([0.7, 0.3], seed=123)\n",
        "\n",
        "# Create a Logistic Regression model\n",
        "lr = LogisticRegression(featuresCol=\"features\", labelCol=\"Survived\")\n",
        "\n",
        "# Create a Pipeline\n",
        "pipeline = Pipeline(stages=[lr])\n",
        "\n",
        "# Train the model\n",
        "model = pipeline.fit(trainingData)\n",
        "\n",
        "# Make predictions\n",
        "predictions = model.transform(testData)\n",
        "\n",
        "# Evaluate the model\n",
        "evaluator = BinaryClassificationEvaluator(labelCol=\"Survived\")\n",
        "accuracy = evaluator.evaluate(predictions)\n",
        "print(\"Accuracy:\", accuracy)"
      ],
      "metadata": {
        "colab": {
          "base_uri": "https://localhost:8080/"
        },
        "id": "bQ6HpGfzYqAH",
        "outputId": "b9321feb-a7e9-42e4-fdd0-320db0e090c9"
      },
      "execution_count": null,
      "outputs": [
        {
          "output_type": "stream",
          "name": "stdout",
          "text": [
            "Accuracy: 0.8713937918441874\n"
          ]
        }
      ]
    },
    {
      "cell_type": "markdown",
      "source": [
        "# Explore Hyperparameter Tunning using Cross-validation"
      ],
      "metadata": {
        "id": "gg3k6inXY48i"
      }
    },
    {
      "cell_type": "code",
      "source": [
        "from pyspark.ml.tuning import ParamGridBuilder, CrossValidator\n",
        "\n",
        "# Define the parameter grid\n",
        "paramGrid = ParamGridBuilder() \\\n",
        "    .addGrid(lr.regParam, [0.01, 0.1, 1.0]) \\\n",
        "    .addGrid(lr.elasticNetParam, [0.0, 0.5, 1.0]) \\\n",
        "    .build()\n",
        "\n",
        "# Create a CrossValidator\n",
        "crossval = CrossValidator(estimator=pipeline,\n",
        "                          estimatorParamMaps=paramGrid,\n",
        "                          evaluator=evaluator,\n",
        "                          numFolds=3)\n",
        "\n",
        "# Train the model using cross-validation\n",
        "cvModel = crossval.fit(trainingData)\n",
        "\n",
        "# Make predictions on the test data\n",
        "predictions = cvModel.transform(testData)\n",
        "\n",
        "# Evaluate the model's performance\n",
        "accuracy = evaluator.evaluate(predictions)\n",
        "print(\"Accuracy after cross-validation:\", accuracy)"
      ],
      "metadata": {
        "colab": {
          "base_uri": "https://localhost:8080/"
        },
        "id": "CD4tle8-Y0J9",
        "outputId": "1da191b6-da60-4d4f-9138-4a3520ad60bf"
      },
      "execution_count": null,
      "outputs": [
        {
          "output_type": "stream",
          "name": "stdout",
          "text": [
            "Accuracy after cross-validation: 0.8578210590383445\n"
          ]
        }
      ]
    },
    {
      "cell_type": "markdown",
      "source": [
        "# Visualisasi Setelah evaluasi model awal dan setelah hyperparameter"
      ],
      "metadata": {
        "id": "kvqCRIGTZd9c"
      }
    },
    {
      "cell_type": "code",
      "source": [
        "import matplotlib.pyplot as plt\n",
        "import seaborn as sns\n",
        "import pandas as pd"
      ],
      "metadata": {
        "id": "sw_jQR5aY_h9"
      },
      "execution_count": null,
      "outputs": []
    },
    {
      "cell_type": "code",
      "source": [
        "# ... (kode sebelumnya) ...\n",
        "\n",
        "# Evaluate the model\n",
        "evaluator = BinaryClassificationEvaluator(labelCol=\"Survived\")\n",
        "accuracy = evaluator.evaluate(predictions)\n",
        "print(\"Accuracy:\", accuracy)\n",
        "\n",
        "# Convert predictions to Pandas DataFrame for visualization\n",
        "predictions_pd = predictions.select(\"Survived\", \"prediction\").toPandas()\n",
        "\n",
        "# Confusion Matrix\n",
        "confusion_matrix = pd.crosstab(predictions_pd[\"Survived\"], predictions_pd[\"prediction\"], rownames=['Actual'], colnames=['Predicted'])\n",
        "sns.heatmap(confusion_matrix, annot=True, fmt='d')\n",
        "plt.title(\"Confusion Matrix\")\n",
        "plt.show()\n",
        "\n",
        "# Other visualizations (e.g., distribution of predictions) can be added here"
      ],
      "metadata": {
        "colab": {
          "base_uri": "https://localhost:8080/",
          "height": 489
        },
        "id": "9HM1D6UYZp1B",
        "outputId": "095470af-022f-4ed6-839b-2c095ed39794"
      },
      "execution_count": null,
      "outputs": [
        {
          "output_type": "stream",
          "name": "stdout",
          "text": [
            "Accuracy: 0.8578210590383446\n"
          ]
        },
        {
          "output_type": "display_data",
          "data": {
            "text/plain": [
              "<Figure size 640x480 with 2 Axes>"
            ],
            "image/png": "[encoded data removed]"
          },
          "metadata": {}
        }
      ]
    },
    {
      "cell_type": "markdown",
      "source": [
        "# Grafik"
      ],
      "metadata": {
        "id": "hoLjOHNtaJKV"
      }
    },
    {
      "cell_type": "code",
      "source": [
        "from io import StringIO\n",
        "import pandas as pd\n",
        "import requests\n",
        "from pyspark.sql import SparkSession\n",
        "from pyspark.sql.functions import col\n",
        "from pyspark.ml.feature import Imputer, StringIndexer, OneHotEncoder, VectorAssembler\n",
        "from pyspark.ml.classification import LogisticRegression\n",
        "from pyspark.ml import Pipeline\n",
        "from pyspark.ml.evaluation import BinaryClassificationEvaluator\n",
        "from pyspark.ml.tuning import ParamGridBuilder, CrossValidator\n",
        "import matplotlib.pyplot as plt\n",
        "import seaborn as sns\n",
        "from sklearn.metrics import roc_curve, auc, precision_recall_curve, average_precision_score\n",
        "\n",
        "\n",
        "# Initialize Spark session\n",
        "spark = SparkSession.builder.appName(\"MLlibClassification\").getOrCreate()\n",
        "\n",
        "# Load the dataset\n",
        "# ... (kode untuk memuat data dan preprocessing seperti sebelumnya) ...\n",
        "\n",
        "\n",
        "# Split the data\n",
        "(trainingData, testData) = titanic_df.randomSplit([0.7, 0.3], seed=123)\n",
        "\n",
        "# Create a Logistic Regression model\n",
        "lr = LogisticRegression(featuresCol=\"features\", labelCol=\"Survived\")\n",
        "\n",
        "# Create a Pipeline\n",
        "pipeline = Pipeline(stages=[lr])\n",
        "\n",
        "# Define the parameter grid\n",
        "paramGrid = ParamGridBuilder() \\\n",
        "    .addGrid(lr.regParam, [0.01, 0.1, 1.0]) \\\n",
        "    .addGrid(lr.elasticNetParam, [0.0, 0.5, 1.0]) \\\n",
        "    .build()\n",
        "\n",
        "# Create a BinaryClassificationEvaluator\n",
        "evaluator = BinaryClassificationEvaluator(labelCol=\"Survived\")\n",
        "\n",
        "# Create a CrossValidator\n",
        "crossval = CrossValidator(estimator=pipeline,\n",
        "                          estimatorParamMaps=paramGrid,\n",
        "                          evaluator=evaluator,\n",
        "                          numFolds=3)\n",
        "\n",
        "# Train the model using cross-validation\n",
        "cvModel = crossval.fit(trainingData)\n",
        "\n",
        "# Make predictions on the test data\n",
        "predictions = cvModel.transform(testData)\n",
        "\n",
        "# Convert predictions to Pandas DataFrame for visualization\n",
        "predictions_pd = predictions.select(\"Survived\", \"prediction\", \"probability\").toPandas()\n",
        "\n",
        "# ROC Curve\n",
        "fpr, tpr, thresholds = roc_curve(predictions_pd[\"Survived\"], predictions_pd[\"probability\"].apply(lambda x: x[1]))\n",
        "roc_auc = auc(fpr, tpr)\n",
        "\n",
        "plt.figure()\n",
        "plt.plot(fpr, tpr, color='darkorange', lw=2, label='ROC curve (area = %0.2f)' % roc_auc)\n",
        "plt.plot([0, 1], [0, 1], color='navy', lw=2, linestyle='--')\n",
        "plt.xlim([0.0, 1.0])\n",
        "plt.ylim([0.0, 1.05])\n",
        "plt.xlabel('False Positive Rate')\n",
        "plt.ylabel('True Positive Rate')\n",
        "plt.title('Receiver Operating Characteristic (ROC)')\n",
        "plt.legend(loc='lower right')\n",
        "plt.show()\n",
        "\n",
        "# Precision-Recall Curve\n",
        "precision, recall, _ = precision_recall_curve(predictions_pd[\"Survived\"], predictions_pd[\"probability\"].apply(lambda x: x[1]))\n",
        "average_precision = average_precision_score(predictions_pd[\"Survived\"], predictions_pd[\"probability\"].apply(lambda x: x[1]))\n",
        "\n",
        "plt.figure()\n",
        "plt.step(recall, precision, color='b', alpha=0.2, where='post')\n",
        "plt.fill_between(recall, precision, step='post', alpha=0.2, color='b')\n",
        "plt.xlabel('Recall')\n",
        "plt.ylabel('Precision')\n",
        "plt.ylim([0.0, 1.05])\n",
        "plt.xlim([0.0, 1.0])\n",
        "plt.title('Precision-Recall curve: AP={0:0.2f}'.format(average_precision))\n",
        "plt.show()\n",
        "\n",
        "# Confusion Matrix\n",
        "confusion_matrix = pd.crosstab(predictions_pd[\"Survived\"], predictions_pd[\"prediction\"], rownames=['Actual'], colnames=['Predicted'])\n",
        "sns.heatmap(confusion_matrix, annot=True, fmt='d')\n",
        "plt.title(\"Confusion Matrix (After Cross-validation)\")\n",
        "plt.show()"
      ],
      "metadata": {
        "colab": {
          "base_uri": "https://localhost:8080/",
          "height": 1000
        },
        "id": "8rFT_JSeaLr9",
        "outputId": "f51b4bec-daa0-4d38-be23-4068d08a97ef"
      },
      "execution_count": null,
      "outputs": [
        {
          "output_type": "display_data",
          "data": {
            "text/plain": [
              "<Figure size 640x480 with 1 Axes>"
            ],
            "image/png": "[encoded data removed]"
          },
          "metadata": {}
        },
        {
          "output_type": "display_data",
          "data": {
            "text/plain": [
              "<Figure size 640x480 with 1 Axes>"
            ],
            "image/png": "[encoded data removed]"
          },
          "metadata": {}
        },
        {
          "output_type": "display_data",
          "data": {
            "text/plain": [
              "<Figure size 640x480 with 2 Axes>"
            ],
            "image/png": "[encoded data removed]"
          },
          "metadata": {}
        }
      ]
    }
  ]
}